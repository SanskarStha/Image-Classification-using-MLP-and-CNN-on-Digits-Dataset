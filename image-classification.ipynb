{
 "cells": [
  {
   "cell_type": "code",
   "execution_count": 75,
   "metadata": {
    "id": "g4wCnPRz-MaE"
   },
   "outputs": [],
   "source": [
    "import os\n",
    "\n",
    "import matplotlib.pyplot as plt\n",
    "import numpy as np\n",
    "import torch\n",
    "import torch.nn as nn\n",
    "import torch.nn.functional as F\n",
    "from sklearn import datasets\n",
    "from sklearn.datasets import load_digits\n",
    "from torch.utils.data import DataLoader, Dataset\n",
    "\n",
    "EPS = 1.0e-7"
   ]
  },
  {
   "cell_type": "code",
   "execution_count": 77,
   "metadata": {
    "id": "KEiEJE5sRvjc"
   },
   "outputs": [],
   "source": [
    "\n",
    "results_dir = \"C:/Users/your_username/Desktop/results/\""
   ]
  },
  {
   "cell_type": "code",
   "execution_count": 78,
   "metadata": {
    "id": "Xm4e0Utl-30c"
   },
   "outputs": [],
   "source": [
    "# This is a class for the dataset of small (8px x 8px) digits.\n",
    "class Digits(Dataset):\n",
    "    \"\"\"Scikit-Learn Digits dataset.\"\"\"\n",
    "\n",
    "    def __init__(self, mode=\"train\", transforms=None):\n",
    "        digits = load_digits()\n",
    "        if mode == \"train\":\n",
    "            self.data = digits.data[:1000].astype(np.float32)\n",
    "            self.targets = digits.target[:1000]\n",
    "        elif mode == \"val\":\n",
    "            self.data = digits.data[1000:1350].astype(np.float32)\n",
    "            self.targets = digits.target[1000:1350]\n",
    "        else:\n",
    "            self.data = digits.data[1350:].astype(np.float32)\n",
    "            self.targets = digits.target[1350:]\n",
    "\n",
    "        self.transforms = transforms\n",
    "\n",
    "    def __len__(self):\n",
    "        return len(self.data)\n",
    "\n",
    "    def __getitem__(self, idx):\n",
    "        sample_x = self.data[idx]\n",
    "        sample_y = self.targets[idx]\n",
    "        if self.transforms:\n",
    "            sample_x = self.transforms(sample_x)\n",
    "        return (sample_x, sample_y)"
   ]
  },
  {
   "cell_type": "code",
   "execution_count": 79,
   "metadata": {
    "id": "bnDz_yGeuOnh"
   },
   "outputs": [
    {
     "data": {
      "image/png": "[encoded data removed]",
      "text/plain": [
       "<Figure size 400x400 with 16 Axes>"
      ]
     },
     "metadata": {},
     "output_type": "display_data"
    }
   ],
   "source": [
    "# Here, we plot some images (8px x 8px).\n",
    "digits = load_digits()\n",
    "x = digits.data[:16].astype(np.float32)\n",
    "\n",
    "fig_data, axs = plt.subplots(4, 4, figsize=(4, 4))\n",
    "fig_data.tight_layout()\n",
    "\n",
    "for i in range(4):\n",
    "    for j in range(4):\n",
    "        img = np.reshape(x[4 * i + j], (8, 8))\n",
    "        axs[i, j].imshow(img, cmap=\"gray\")\n",
    "        axs[i, j].axis(\"off\")"
   ]
  },
  {
   "cell_type": "code",
   "execution_count": 80,
   "metadata": {
    "id": "5AB5Ch63Ak01"
   },
   "outputs": [],
   "source": [
    "# Here are two auxiliary functions that can be used for a convolutional NN (CNN).\n",
    "# This module reshapes an input (matrix -> tensor).\n",
    "class Reshape(nn.Module):\n",
    "    def __init__(self, size):\n",
    "        super(Reshape, self).__init__()\n",
    "        self.size = size  # a list\n",
    "\n",
    "    def forward(self, x):\n",
    "        assert x.shape[1] == np.prod(self.size)\n",
    "        return x.view(x.shape[0], *self.size)\n",
    "\n",
    "\n",
    "# This module flattens an input (tensor -> matrix) by blending dimensions\n",
    "# beyond the batch size.\n",
    "class Flatten(nn.Module):\n",
    "    def __init__(self):\n",
    "        super(Flatten, self).__init__()\n",
    "\n",
    "    def forward(self, x):\n",
    "        return x.view(x.shape[0], -1)"
   ]
  },
  {
   "cell_type": "code",
   "execution_count": 81,
   "metadata": {
    "id": "Vtv_pAkmOrS3"
   },
   "outputs": [],
   "source": [
    "class ClassifierNeuralNet(nn.Module):\n",
    "    def __init__(self, classnet):\n",
    "        super(ClassifierNeuralNet, self).__init__()\n",
    "        # We provide a sequential module with layers and activations\n",
    "        self.classnet = classnet\n",
    "        # The loss function (the negative log-likelihood)\n",
    "        self.nll = nn.NLLLoss(reduction=\"none\") \n",
    "\n",
    "    # This function classifies an image x to a class.\n",
    "    # The output must be a class label (long).\n",
    "    def classify(self, x):\n",
    "        out = self.classnet(x)\n",
    "        out = F.log_softmax(out, dim=1)\n",
    "        _, y_pred = out.max(dim=1)\n",
    "        y_pred = y_pred.long()\n",
    "\n",
    "        return y_pred\n",
    "\n",
    "    # In our framework, this class outputs a value of the loss function.\n",
    "    def forward(self, x, y, reduction=\"avg\"):\n",
    "        out = self.classnet(x)\n",
    "        # Apply a log softmax activation\n",
    "        out = F.log_softmax(out, dim=1)\n",
    "        # Compute the negative log likelihood loss\n",
    "        loss = self.nll(out, y.long())\n",
    "        # Compute the average loss across samples\n",
    "        if reduction == \"sum\":\n",
    "            return loss.sum()\n",
    "        else:\n",
    "            return loss.mean()"
   ]
  },
  {
   "cell_type": "code",
   "execution_count": 82,
   "metadata": {
    "id": "4g9uUFgYP1kT"
   },
   "outputs": [],
   "source": [
    "def evaluation(test_loader, name=None, model_best=None, epoch=None):\n",
    "    # If available, load the best performing model\n",
    "    if model_best is None:\n",
    "        model_best = torch.load(name + \".model\")\n",
    "\n",
    "    model_best.eval()  # set the model to the evaluation mode\n",
    "    loss_test = 0.0\n",
    "    loss_error = 0.0\n",
    "    N = 0.0\n",
    "    # start evaluation\n",
    "    for indx_batch, (test_batch, test_targets) in enumerate(test_loader):\n",
    "        # loss (nll)\n",
    "        loss_test_batch = model_best.forward(test_batch, test_targets, reduction=\"sum\")\n",
    "        loss_test = loss_test + loss_test_batch.item()\n",
    "        # classification error\n",
    "        y_pred = model_best.classify(test_batch)\n",
    "        e = 1.0 * (y_pred == test_targets)\n",
    "        loss_error = loss_error + (1.0 - e).sum().item()\n",
    "        # the number of examples\n",
    "        N = N + test_batch.shape[0]\n",
    "    # divide by the number of examples\n",
    "    loss_test = loss_test / N\n",
    "    loss_error = loss_error / N\n",
    "\n",
    "    # Print the performance\n",
    "    if epoch is None:\n",
    "        print(f\"-> FINAL PERFORMANCE: nll={loss_test}, ce={loss_error}\")\n",
    "    else:\n",
    "        if epoch % 10 == 0:\n",
    "            print(f\"Epoch: {epoch}, val nll={loss_test}, val ce={loss_error}\")\n",
    "\n",
    "    return loss_test, loss_error\n",
    "\n",
    "\n",
    "# An auxiliary function for plotting the performance curves\n",
    "def plot_curve(\n",
    "    name,\n",
    "    signal,\n",
    "    file_name=\"curve.pdf\",\n",
    "    xlabel=\"epochs\",\n",
    "    ylabel=\"nll\",\n",
    "    color=\"b-\",\n",
    "    test_eval=None,\n",
    "):\n",
    "    # plot the curve\n",
    "    plt.plot(\n",
    "        np.arange(len(signal)), signal, color, linewidth=\"3\", label=ylabel + \" val\"\n",
    "    )\n",
    "    # if available, add the final (test) performance\n",
    "    if test_eval is not None:\n",
    "        plt.hlines(\n",
    "            test_eval,\n",
    "            xmin=0,\n",
    "            xmax=len(signal),\n",
    "            linestyles=\"dashed\",\n",
    "            label=ylabel + \" test\",\n",
    "        )\n",
    "        plt.text(\n",
    "            len(signal),\n",
    "            test_eval,\n",
    "            \"{:.3f}\".format(test_eval),\n",
    "        )\n",
    "    # set x- and ylabels, add legend, save the figure\n",
    "    plt.xlabel(xlabel), plt.ylabel(ylabel)\n",
    "    plt.legend()\n",
    "    plt.savefig(name + file_name, bbox_inches=\"tight\")\n",
    "    plt.show()"
   ]
  },
  {
   "cell_type": "code",
   "execution_count": 83,
   "metadata": {
    "id": "CMhQWbM1QcBM"
   },
   "outputs": [],
   "source": [
    "# The training procedure\n",
    "def training(\n",
    "    name, max_patience, num_epochs, model, optimizer, training_loader, val_loader\n",
    "):\n",
    "    nll_val = []\n",
    "    error_val = []\n",
    "    best_nll = 1000.0\n",
    "    patience = 0\n",
    "\n",
    "    # Main training loop\n",
    "    for e in range(num_epochs):\n",
    "        model.train()  # set the model to the training mode\n",
    "        # load batches\n",
    "        for indx_batch, (batch, targets) in enumerate(training_loader):\n",
    "            # calculate the forward pass (loss function for given images and labels)\n",
    "            loss = model.forward(batch, targets)\n",
    "            optimizer.zero_grad()\n",
    "            # calculate backward pass\n",
    "            loss.backward(retain_graph=True)\n",
    "            # run the optimizer\n",
    "            optimizer.step()\n",
    "\n",
    "        # Validation: Evaluate the model on the validation data\n",
    "        loss_e, error_e = evaluation(val_loader, model_best=model, epoch=e)\n",
    "        nll_val.append(loss_e)  # save for plotting\n",
    "        error_val.append(error_e)  # save for plotting\n",
    "\n",
    "        # Early-stopping: update the best performing model and break training if no\n",
    "        # progress is observed.\n",
    "        if e == 0:\n",
    "            torch.save(model, name + \".model\")\n",
    "            best_nll = loss_e\n",
    "        else:\n",
    "            if loss_e < best_nll:\n",
    "                torch.save(model, name + \".model\")\n",
    "                best_nll = loss_e\n",
    "                patience = 0\n",
    "            else:\n",
    "                patience = patience + 1\n",
    "\n",
    "        if patience > max_patience:\n",
    "            break\n",
    "\n",
    "    # Return nll and classification error.\n",
    "    nll_val = np.asarray(nll_val)\n",
    "    error_val = np.asarray(error_val)\n",
    "\n",
    "    return nll_val, error_val"
   ]
  },
  {
   "cell_type": "code",
   "execution_count": 84,
   "metadata": {
    "id": "R_cRaP3gRET1"
   },
   "outputs": [],
   "source": [
    "# Initialize training, validation and test sets.\n",
    "train_data = Digits(mode=\"train\")\n",
    "val_data = Digits(mode=\"val\")\n",
    "test_data = Digits(mode=\"test\")\n",
    "\n",
    "# Initialize data loaders.\n",
    "training_loader = DataLoader(train_data, batch_size=64, shuffle=True)\n",
    "val_loader = DataLoader(val_data, batch_size=64, shuffle=False)\n",
    "test_loader = DataLoader(test_data, batch_size=64, shuffle=False)"
   ]
  },
  {
   "cell_type": "code",
   "execution_count": 85,
   "metadata": {
    "id": "2Lqwm5c3oRia"
   },
   "outputs": [
    {
     "name": "stdout",
     "output_type": "stream",
     "text": [
      "How do we get our data from Digits class? \n",
      "\n",
      "Feature example: [ 0.  0.  0. 12. 13.  5.  0.  0.  0.  0.  0. 11. 16.  9.  0.  0.  0.  0.\n",
      "  3. 15. 16.  6.  0.  0.  0.  7. 15. 16. 16.  2.  0.  0.  0.  0.  1. 16.\n",
      " 16.  3.  0.  0.  0.  0.  1. 16. 16.  6.  0.  0.  0.  0.  1. 16. 16.  6.\n",
      "  0.  0.  0.  0.  0. 11. 16. 10.  0.  0.]\n",
      "Feature example shape: (64,)\n",
      "Label example: 1\n"
     ]
    }
   ],
   "source": [
    "print(\"How do we get our data from Digits class? \\n\")\n",
    "print(f\"Feature example: {train_data[1][0]}\")\n",
    "print(f\"Feature example shape: {train_data[1][0].shape}\")\n",
    "print(f\"Label example: {train_data[1][1]}\")"
   ]
  },
  {
   "cell_type": "code",
   "execution_count": 86,
   "metadata": {
    "id": "F5OuaSTOhocZ"
   },
   "outputs": [
    {
     "name": "stdout",
     "output_type": "stream",
     "text": [
      "How do we get our data from Pytorch DataLoader class? \n",
      "\n",
      "Feature batch shape: torch.Size([64, 64])\n",
      "Labels batch shape: torch.Size([64])\n",
      "\n",
      "\n",
      "What happens if we reshape a feature batch? \n",
      "\n",
      "Feature batch shape after reshape: torch.Size([64, 1, 8, 8])\n",
      "\n",
      "\n",
      "What happens if we flatten a reshaped feature batch? \n",
      "\n",
      "Feature batch shape after flatten: torch.Size([64, 64])\n"
     ]
    }
   ],
   "source": [
    "print(\"How do we get our data from Pytorch DataLoader class? \\n\")\n",
    "train_features, train_labels = next(iter(training_loader))\n",
    "print(f\"Feature batch shape: {train_features.size()}\")\n",
    "print(f\"Labels batch shape: {train_labels.size()}\")\n",
    "\n",
    "print(\"\\n\\nWhat happens if we reshape a feature batch? \\n\")\n",
    "reshape = Reshape(size=(1, 8, 8))\n",
    "train_features_reshaped = reshape(train_features)\n",
    "print(f\"Feature batch shape after reshape: {train_features_reshaped.size()}\")\n",
    "\n",
    "print(\"\\n\\nWhat happens if we flatten a reshaped feature batch? \\n\")\n",
    "flatten = Flatten()\n",
    "train_features_flattened = flatten(train_features_reshaped)\n",
    "print(f\"Feature batch shape after flatten: {train_features_flattened.size()}\")"
   ]
  },
  {
   "cell_type": "code",
   "execution_count": 87,
   "metadata": {
    "id": "dnMs4gcLRLEK"
   },
   "outputs": [],
   "source": [
    "# Hyperparameters\n",
    "# -> data hyperparams\n",
    "D = 64  # input dimension\n",
    "\n",
    "# -> model hyperparams\n",
    "M = 256  # the number of neurons in scale (s) and translation (t) nets\n",
    "K = 10  # the number of labels\n",
    "num_kernels = 32  # the number of kernels for CNN\n",
    "num_channels = 1 # the number of channels for CNN\n",
    "\n",
    "# -> training hyperparams\n",
    "lr = 1e-3  # learning rate\n",
    "wd = 1e-5  # weight decay\n",
    "num_epochs = 1000  # max. number of epochs\n",
    "max_patience = 20  # an early stopping is used, if training doesn't improve for longer than 20 epochs, it is stopped"
   ]
  },
  {
   "cell_type": "code",
   "execution_count": 88,
   "metadata": {
    "id": "AZH7ahwBRP9B"
   },
   "outputs": [
    {
     "name": "stdout",
     "output_type": "stream",
     "text": [
      "\n",
      "-> START classifier_mlp\n",
      "Epoch: 0, val nll=0.6323810304914202, val ce=0.11142857142857143\n",
      "Epoch: 10, val nll=0.13462127481188094, val ce=0.037142857142857144\n",
      "Epoch: 20, val nll=0.10790727138519288, val ce=0.02857142857142857\n",
      "Epoch: 30, val nll=0.10260258538382394, val ce=0.02857142857142857\n",
      "Epoch: 40, val nll=0.09603893620627267, val ce=0.025714285714285714\n",
      "Epoch: 50, val nll=0.0943448781967163, val ce=0.02857142857142857\n",
      "Epoch: 60, val nll=0.0924024874823434, val ce=0.025714285714285714\n",
      "Epoch: 70, val nll=0.09217615025384085, val ce=0.025714285714285714\n",
      "Epoch: 80, val nll=0.09196035010474068, val ce=0.025714285714285714\n",
      "Epoch: 90, val nll=0.09301523957933698, val ce=0.025714285714285714\n",
      "-> FINAL PERFORMANCE: nll=0.37844963415090405, ce=0.07829977628635347\n"
     ]
    },
    {
     "data": {
      "image/png": "[encoded data removed]",
      "text/plain": [
       "<Figure size 640x480 with 1 Axes>"
      ]
     },
     "metadata": {},
     "output_type": "display_data"
    },
    {
     "data": {
      "image/png": "[encoded data removed]",
      "text/plain": [
       "<Figure size 640x480 with 1 Axes>"
      ]
     },
     "metadata": {},
     "output_type": "display_data"
    },
    {
     "name": "stdout",
     "output_type": "stream",
     "text": [
      "\n",
      "-> START classifier_cnn\n",
      "Epoch: 0, val nll=1.637657972063337, val ce=0.3342857142857143\n",
      "Epoch: 10, val nll=0.13673742498670305, val ce=0.03142857142857143\n",
      "Epoch: 20, val nll=0.07569916776248387, val ce=0.025714285714285714\n",
      "Epoch: 30, val nll=0.054426435700484686, val ce=0.017142857142857144\n",
      "Epoch: 40, val nll=0.05181351065635681, val ce=0.022857142857142857\n",
      "Epoch: 50, val nll=0.050383566660540446, val ce=0.02\n",
      "Epoch: 60, val nll=0.04842434429696628, val ce=0.022857142857142857\n",
      "Epoch: 70, val nll=0.04618544165045023, val ce=0.02\n",
      "Epoch: 80, val nll=0.042583683047975815, val ce=0.014285714285714285\n",
      "Epoch: 90, val nll=0.0408762229340417, val ce=0.011428571428571429\n",
      "Epoch: 100, val nll=0.036538641154766086, val ce=0.011428571428571429\n",
      "Epoch: 110, val nll=0.036553608163126874, val ce=0.011428571428571429\n",
      "Epoch: 120, val nll=0.03601108843460679, val ce=0.011428571428571429\n",
      "Epoch: 130, val nll=0.03445057427510619, val ce=0.011428571428571429\n",
      "Epoch: 140, val nll=0.03329808884167246, val ce=0.011428571428571429\n",
      "Epoch: 150, val nll=0.031998349902486165, val ce=0.011428571428571429\n",
      "Epoch: 160, val nll=0.032029651214501687, val ce=0.011428571428571429\n",
      "Epoch: 170, val nll=0.030969943590462207, val ce=0.011428571428571429\n",
      "Epoch: 180, val nll=0.031334356827927484, val ce=0.011428571428571429\n",
      "Epoch: 190, val nll=0.030584989037763858, val ce=0.011428571428571429\n",
      "Epoch: 200, val nll=0.03053858539887837, val ce=0.011428571428571429\n",
      "Epoch: 210, val nll=0.03019358546606132, val ce=0.011428571428571429\n",
      "Epoch: 220, val nll=0.02987351251167378, val ce=0.011428571428571429\n",
      "-> FINAL PERFORMANCE: nll=0.25658713944539663, ce=0.058165548098434\n"
     ]
    },
    {
     "data": {
      "image/png": "[encoded data removed]",
      "text/plain": [
       "<Figure size 640x480 with 1 Axes>"
      ]
     },
     "metadata": {},
     "output_type": "display_data"
    },
    {
     "data": {
      "image/png": "[encoded data removed]",
      "text/plain": [
       "<Figure size 640x480 with 1 Axes>"
      ]
     },
     "metadata": {},
     "output_type": "display_data"
    }
   ],
   "source": [
    "# We will run two models: MLP and CNN\n",
    "names = [\"classifier_mlp\", \"classifier_cnn\"]\n",
    "\n",
    "# loop over models\n",
    "for name in names:\n",
    "    print(\"\\n-> START {}\".format(name))\n",
    "    if name == \"classifier_mlp\":\n",
    "        name = name + \"_M_\" + str(M)\n",
    "    elif name == \"classifier_cnn\":\n",
    "        name = name + \"_M_\" + str(M) + \"_kernels_\" + str(num_kernels)\n",
    "\n",
    "    result_dir = os.path.join(results_dir, \"results\", name + \"/\")\n",
    "\n",
    "    result_dir = \"./\"  # (current folder)\n",
    "  \n",
    "    if not (os.path.exists(result_dir)):\n",
    "        os.mkdir(result_dir)\n",
    "\n",
    "    # MLP\n",
    "    if name[0:14] == \"classifier_mlp\":\n",
    "      \n",
    "        classnet = nn.Sequential(\n",
    "            nn.Linear(D, M),  # input layer\n",
    "            nn.ReLU(),  # activation function\n",
    "            nn.Linear(M, M),  # hidden layer\n",
    "            nn.ReLU(),  # activation function\n",
    "            nn.Linear(M, K),  # output layer\n",
    "            nn.LogSoftmax(dim=1)  # log-softmax activation for multi-class classification\n",
    "        )\n",
    "\n",
    "    # CNN\n",
    "    elif name[0:14] == \"classifier_cnn\":\n",
    "\n",
    "        classnet = nn.Sequential(\n",
    "            # Reshape the input to a 4D tensor with shape [batch_size, num_channels, 8, 8]\n",
    "            Reshape([num_channels, 8, 8]),\n",
    "            # Convolutional layer with `num_kernels` kernels of size 3x3, using padding to keep the input size\n",
    "            nn.Conv2d(in_channels=num_channels, out_channels=num_kernels, kernel_size=3, stride=1, padding=1),\n",
    "            # ReLU activation function applied element-wise\n",
    "            nn.ReLU(),\n",
    "            # Max pooling layer with kernel size 2x2 and stride 2, reducing the input size by half\n",
    "            nn.MaxPool2d(kernel_size=2),\n",
    "            # Convolutional layer with `num_kernels` kernels of size 3x3, using padding to keep the input size\n",
    "            nn.Conv2d(in_channels=num_kernels, out_channels=num_kernels, kernel_size=3, stride=1, padding=1),\n",
    "            # ReLU activation function applied element-wise\n",
    "            nn.ReLU(),\n",
    "            # Max pooling layer with kernel size 2x2 and stride 2, reducing the input size by half\n",
    "            nn.MaxPool2d(kernel_size=2),\n",
    "            # Flatten the 4D tensor to a 2D tensor with shape [batch_size, num_kernels*4]\n",
    "            nn.Flatten(),\n",
    "            # Fully connected layer with `num_kernels*4` input features and `M` output features\n",
    "            nn.Linear(in_features=num_kernels*4, out_features=M),\n",
    "            # ReLU activation function applied element-wise\n",
    "            nn.ReLU(),\n",
    "            # Fully connected layer with `M` input features and `K` output features\n",
    "            nn.Linear(in_features=M, out_features=K),\n",
    "            # Log-softmax activation function applied element-wise along the second dimension (class dimension)\n",
    "            nn.LogSoftmax(dim=1)\n",
    "        )\n",
    "\n",
    "\n",
    "    # Init ClassifierNN\n",
    "    model = ClassifierNeuralNet(classnet)\n",
    "\n",
    "    # Init OPTIMIZER (here we use ADAMAX)\n",
    "    optimizer = torch.optim.Adamax(\n",
    "        [p for p in model.parameters() if p.requires_grad == True],\n",
    "        lr=lr,\n",
    "        weight_decay=wd,\n",
    "    )\n",
    "\n",
    "    # Training procedure\n",
    "    nll_val, error_val = training(\n",
    "        name=result_dir + name,\n",
    "        max_patience=max_patience,\n",
    "        num_epochs=num_epochs,\n",
    "        model=model,\n",
    "        optimizer=optimizer,\n",
    "        training_loader=training_loader,\n",
    "        val_loader=val_loader,\n",
    "    )\n",
    "\n",
    "    # The final evaluation (on the test set)\n",
    "    test_loss, test_error = evaluation(name=result_dir + name, test_loader=test_loader)\n",
    "    # write the results to a file\n",
    "    f = open(result_dir + name + \"_test_loss.txt\", \"w\")\n",
    "    f.write(\"NLL: \" + str(test_loss) + \"\\nCE: \" + str(test_error))\n",
    "    f.close()\n",
    "    # create curves\n",
    "    plot_curve(\n",
    "        result_dir + name,\n",
    "        nll_val,\n",
    "        file_name=\"_nll_val_curve.pdf\",\n",
    "        ylabel=\"nll\",\n",
    "        test_eval=test_loss,\n",
    "    )\n",
    "    plot_curve(\n",
    "        result_dir + name,\n",
    "        error_val,\n",
    "        file_name=\"_ca_val_curve.pdf\",\n",
    "        ylabel=\"ce\",\n",
    "        color=\"r-\",\n",
    "        test_eval=test_error,\n",
    "    )"
   ]
  }
 ],
 "metadata": {
  "colab": {
   "provenance": [],
   "toc_visible": true
  },
  "kernelspec": {
   "display_name": "Python 3 (ipykernel)",
   "language": "python",
   "name": "python3"
  },
  "language_info": {
   "codemirror_mode": {
    "name": "ipython",
    "version": 3
   },
   "file_extension": ".py",
   "mimetype": "text/x-python",
   "name": "python",
   "nbconvert_exporter": "python",
   "pygments_lexer": "ipython3",
   "version": "3.10.9"
  }
 },
 "nbformat": 4,
 "nbformat_minor": 4
}
